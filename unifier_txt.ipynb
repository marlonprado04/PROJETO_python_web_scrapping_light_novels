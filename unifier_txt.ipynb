{
  "cells": [
    {
      "cell_type": "markdown",
      "metadata": {
        "colab_type": "text",
        "id": "view-in-github"
      },
      "source": [
        "<a href=\"https://colab.research.google.com/github/marlonprado04/scrapping-tbate/blob/master/Scarpping_TBATE.ipynb\" target=\"_parent\"><img src=\"https://colab.research.google.com/assets/colab-badge.svg\" alt=\"Open In Colab\"/></a>\n"
      ]
    },
    {
      "cell_type": "code",
      "execution_count": null,
      "metadata": {},
      "outputs": [],
      "source": [
        "import os\n",
        "\n",
        "# Solicita o caminho da pasta\n",
        "pasta = input(\"Digite o caminho da pasta: \")\n",
        "nome_arquivo = input(\"Digite o nome do arquivo unificado: \")\n",
        "\n",
        "# Verifica se o caminho é válido\n",
        "if not os.path.isdir(pasta):\n",
        "    print(\"Caminho inválido.\")\n",
        "else:\n",
        "    # Lista os arquivos .txt na pasta\n",
        "    arquivos_txt = [\n",
        "        arquivo for arquivo in os.listdir(pasta) if arquivo.endswith(\".txt\")\n",
        "    ]\n",
        "\n",
        "    # Verifica se há arquivos .txt na pasta\n",
        "    if not arquivos_txt:\n",
        "        print(\"Não foram encontrados arquivos .txt na pasta.\")\n",
        "    else:\n",
        "        # Nome do arquivo de saída\n",
        "        arquivo_saida = f\"{nome_arquivo}.txt\"\n",
        "\n",
        "        # Abre o arquivo de saída em modo de escrita\n",
        "        with open(arquivo_saida, \"w\") as saida:\n",
        "            for arquivo_txt in arquivos_txt:\n",
        "                # Abre cada arquivo .txt da pasta em modo de leitura\n",
        "                with open(os.path.join(pasta, arquivo_txt), \"r\") as arquivo:\n",
        "                    # Lê o conteúdo do arquivo e escreve no arquivo de saída\n",
        "                    conteudo = arquivo.read()\n",
        "                    saida.write(conteudo)\n",
        "                # Adiciona uma quebra de linha entre os arquivos\n",
        "                saida.write(\"\\n\")\n",
        "\n",
        "        print(f\"Arquivos unificados com sucesso em '{arquivo_saida}'.\")\n"
      ]
    }
  ],
  "metadata": {
    "colab": {
      "authorship_tag": "ABX9TyP7ebZYCY1DXRnEsEYk+Cfq",
      "include_colab_link": true,
      "provenance": []
    },
    "kernelspec": {
      "display_name": "Python 3",
      "name": "python3"
    },
    "language_info": {
      "codemirror_mode": {
        "name": "ipython",
        "version": 3
      },
      "file_extension": ".py",
      "mimetype": "text/x-python",
      "name": "python",
      "nbconvert_exporter": "python",
      "pygments_lexer": "ipython3",
      "version": "3.10.12"
    }
  },
  "nbformat": 4,
  "nbformat_minor": 0
}
