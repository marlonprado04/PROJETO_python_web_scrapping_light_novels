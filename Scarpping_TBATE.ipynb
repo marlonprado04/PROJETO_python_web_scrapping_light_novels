{
  "cells": [
    {
      "cell_type": "markdown",
      "metadata": {
        "colab_type": "text",
        "id": "view-in-github"
      },
      "source": [
        "<a href=\"https://colab.research.google.com/github/marlonprado04/scrapping-tbate/blob/master/Scarpping_TBATE.ipynb\" target=\"_parent\"><img src=\"https://colab.research.google.com/assets/colab-badge.svg\" alt=\"Open In Colab\"/></a>"
      ]
    },
    {
      "cell_type": "markdown",
      "metadata": {},
      "source": [
        "\n",
        "### URL para baixar os capítulos traduzidos:\n",
        "\n",
        "ReaperScans: https://reaperscans.com.br/obra/o-comeco-apos-o-fim/\n",
        "\n",
        "Central Novel: https://centralnovel.com/series/the-beginning-after-the-end/\n",
        "\n",
        "### Ordem de capítulos e livros do TBATE:\n",
        "\n",
        "https://tbate.fandom.com/wiki/Volumes_and_Chapters\n",
        "\n",
        "\n",
        "### Sobre o agrupamento dos capítulos (Reaper Scans)\n",
        "\n",
        "Início do volume 8:\n",
        "Chapter 254: Hello Darkness\n",
        "Capítulo 247 - Olá, escuridão\n",
        "\n",
        "Fim do volume 8:\n",
        "Chapter 325: Intervention\n",
        "Capítulo 307\n",
        "\n",
        "----\n",
        "\n",
        "Início do volume 9:\n",
        "Chapter 322 - Echoes of Accusations\n",
        "Capítulo 308 - Ecos e Acusações\n",
        "\n",
        "Fim do volume 9:\n",
        "Chapter 380 - A Void Beyond\n",
        "Capítulo 366 - O Vazio Além\n",
        "\n",
        "---\n",
        "\n",
        "Baixar depois capítulos extras que faltaram (com final .5, .11, etc)\n",
        "\n",
        "Ex: 383.5"
      ]
    },
    {
      "cell_type": "code",
      "execution_count": null,
      "metadata": {
        "colab": {
          "base_uri": "https://localhost:8080/",
          "height": 1000
        },
        "id": "0QjjKND3dZUr",
        "outputId": "a048dce9-ae58-4e73-c4db-132a44a1868e"
      },
      "outputs": [],
      "source": [
        "# Importando bibliotecas necessárias\n",
        "from bs4 import BeautifulSoup\n",
        "import requests\n",
        "\n",
        "# Criadno URL do site\n",
        "url = \"https://centralnovel.com/the-beginning-after-the-end-capitulo-\"\n",
        "cap = 100\n",
        "\n",
        "# Criando laço de repetição\n",
        "while cap <= 150:\n",
        "  # Passando url completa com o número do cap\n",
        "  url_completa = url + str(cap)\n",
        "  print(\"URL: \" + url_completa)\n",
        "\n",
        "  # Passando a URL para uma requisição do requests\n",
        "  requisicao = requests.get(url_completa)\n",
        "\n",
        "  # Passando o HTML da requisição para uma variável\n",
        "  html = requisicao.text\n",
        "\n",
        "  # Parseando o HTML da requisição\n",
        "  soup = BeautifulSoup(html, \"html.parser\")\n",
        "\n",
        "  # Passando o título com número do capítulo para uma variável\n",
        "  titulo_numero = print(soup.find(\"h1\", {\"class\":\"entry-title\"}).get_text())\n",
        "\n",
        "  # Passando o nome do capitulo para uma variavel\n",
        "  print(soup.find(\"div\", {\"class\":\"cat-series\"}).get_text())\n",
        "\n",
        "  # Printando elemento P do html\n",
        "  for paragrafo in soup.find_all(\"p\"):\n",
        "    print(paragrafo.get_text())\n",
        "\n",
        "  # Incrementando capitulo\n",
        "  cap += 1\n"
      ]
    }
  ],
  "metadata": {
    "colab": {
      "authorship_tag": "ABX9TyP7ebZYCY1DXRnEsEYk+Cfq",
      "include_colab_link": true,
      "provenance": []
    },
    "kernelspec": {
      "display_name": "Python 3",
      "name": "python3"
    },
    "language_info": {
      "codemirror_mode": {
        "name": "ipython",
        "version": 3
      },
      "file_extension": ".py",
      "mimetype": "text/x-python",
      "name": "python",
      "nbconvert_exporter": "python",
      "pygments_lexer": "ipython3",
      "version": "3.10.12"
    }
  },
  "nbformat": 4,
  "nbformat_minor": 0
}
