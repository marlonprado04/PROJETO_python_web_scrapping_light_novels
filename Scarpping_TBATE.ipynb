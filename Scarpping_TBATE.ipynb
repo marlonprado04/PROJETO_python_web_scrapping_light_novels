{
  "cells": [
    {
      "cell_type": "markdown",
      "metadata": {
        "colab_type": "text",
        "id": "view-in-github"
      },
      "source": [
        "<a href=\"https://colab.research.google.com/github/marlonprado04/scrapping-tbate/blob/master/Scarpping_TBATE.ipynb\" target=\"_parent\"><img src=\"https://colab.research.google.com/assets/colab-badge.svg\" alt=\"Open In Colab\"/></a>"
      ]
    },
    {
      "cell_type": "markdown",
      "metadata": {},
      "source": [
        "\n",
        "### URL para baixar os capítulos traduzidos:\n",
        "\n",
        "ReaperScans: https://reaperscans.com.br/obra/o-comeco-apos-o-fim/\n",
        "\n",
        "Central Novel: https://centralnovel.com/series/the-beginning-after-the-end/\n",
        "\n",
        "### Ordem de capítulos e livros do TBATE:\n",
        "\n",
        "https://tbate.fandom.com/wiki/Volumes_and_Chapters\n",
        "\n",
        "\n",
        "## Sobre o agrupamento dos capítulos (Central Novel)\n",
        "\n",
        "- Volume 1 = 1 ao 21\n",
        "- Volume 2 = 22 ao 42\n",
        "- Volume 3 = 43 ao 68\n",
        "- Volume 4 = 69 ao 97\n",
        "- Volume 5 = 98 ao 138\n",
        "- Volume 6 = 139 ao 194\n",
        "- Volume 7 = 195 ao 249\n",
        "- Volume 8 = 250 ao 313\n",
        "- Volume 8.5 (extra) = 1 ao 20\n",
        "- Volume 9 = 314 ao 381 (+374.5)\n",
        "- Volume 10 = 382 ao 429\n",
        "- Volume 11 = 330 ao 439"
      ]
    },
    {
      "cell_type": "code",
      "execution_count": 2,
      "metadata": {
        "colab": {
          "base_uri": "https://localhost:8080/",
          "height": 1000
        },
        "id": "0QjjKND3dZUr",
        "outputId": "a048dce9-ae58-4e73-c4db-132a44a1868e"
      },
      "outputs": [],
      "source": [
        "# Importando bibliotecas necessárias\n",
        "from bs4 import BeautifulSoup\n",
        "import requests\n",
        "\n",
        "# Criadno URL do site\n",
        "url = \"https://centralnovel.com/the-beginning-after-the-end-capitulo-\"\n",
        "\n",
        "# Criando variáveis para receber range de capítulos para download\n",
        "capitulo_inicial = int(input(\"Desde qual capítulo deseja fazer download?\"))\n",
        "capitulo_final = int(input(\"Até qual capítulo deseja fazer download?\"))\n",
        "\n",
        "# Criando laço de repetição\n",
        "while capitulo_inicial <= capitulo_final:\n",
        "  # Passando url completa com o número do cap\n",
        "  url_completa = url + str(capitulo_inicial)\n",
        "\n",
        "  # Passando a URL para uma requisição do requests\n",
        "  requisicao = requests.get(url_completa)\n",
        "\n",
        "  # Passando o HTML da requisição para uma variável\n",
        "  html = requisicao.text\n",
        "\n",
        "  # Parseando o HTML da requisição\n",
        "  soup = BeautifulSoup(html, \"html.parser\")\n",
        "\n",
        "  # Passando o título com número do capítulo para uma variável\n",
        "  titulo_numero = soup.find(\"h1\", {\"class\":\"entry-title\"}).get_text()\n",
        "\n",
        "  # Passando o nome do capitulo para uma variavel\n",
        "  titulo_nome = soup.find(\"div\", {\"class\":\"cat-series\"}).get_text()\n",
        "  # Subtituindo / no nome do capítulo para não dar conflito de diretório\n",
        "  titulo_nome = titulo_nome.replace(\"/\", \"_\") \n",
        "  \n",
        "  # Criando variável para recortar apenas o capítulo\n",
        "  indice = titulo_numero.find(\"Capítulo\")\n",
        "  \n",
        "  # Realizando operação para recortar titulo no formato \"Capítulo x\"\n",
        "  if indice != -1:\n",
        "    capitulo = titulo_numero[indice:]\n",
        "    capitulo = capitulo.replace(\"/\", \"_\")\n",
        "  else:\n",
        "    capitulo = f\"#####ERRO##### {titulo_numero}\" \n",
        "    capitulo = capitulo.replace(\"/\", \"_\")\n",
        "  \n",
        "  # Criando arquivo com número do capítulo e nome\n",
        "  with open(f\"./capitulos/{capitulo} - {titulo_nome}.txt\", \"w\") as arquivo:\n",
        "    arquivo.write(titulo_numero)\n",
        "    arquivo.write(\"\\n\")\n",
        "    arquivo.write(titulo_nome)\n",
        "    arquivo.write(\"\\n\\n\")\n",
        "    \n",
        "  # Criando loop para armazenar cada parágrafo dentro do arquivo criado\n",
        "  for paragrafo in soup.find_all(\"p\"):\n",
        "    with open(f\"./capitulos/{capitulo} - {titulo_nome}.txt\", \"a\") as arquivo:\n",
        "      arquivo.write(paragrafo.get_text())\n",
        "      arquivo.write(\"\\n\")\n",
        "\n",
        "  # Incrementando capitulo\n",
        "  capitulo_inicial += 1\n",
        "\n"
      ]
    }
  ],
  "metadata": {
    "colab": {
      "authorship_tag": "ABX9TyP7ebZYCY1DXRnEsEYk+Cfq",
      "include_colab_link": true,
      "provenance": []
    },
    "kernelspec": {
      "display_name": "Python 3",
      "name": "python3"
    },
    "language_info": {
      "codemirror_mode": {
        "name": "ipython",
        "version": 3
      },
      "file_extension": ".py",
      "mimetype": "text/x-python",
      "name": "python",
      "nbconvert_exporter": "python",
      "pygments_lexer": "ipython3",
      "version": "3.10.12"
    }
  },
  "nbformat": 4,
  "nbformat_minor": 0
}
